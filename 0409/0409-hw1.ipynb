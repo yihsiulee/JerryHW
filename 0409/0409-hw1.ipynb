{
 "cells": [
  {
   "cell_type": "code",
   "execution_count": 34,
   "metadata": {},
   "outputs": [
    {
     "name": "stdout",
     "output_type": "stream",
     "text": [
      "ICEE\n",
      "put ice in it\n",
      "我喜歡的口味 strawberry\n",
      "我喜歡的口味 lemon\n",
      "我喜歡的口味 milk\n"
     ]
    }
   ],
   "source": [
    "class Restaurant():\n",
    "    def __init__(self,restaurant_name,cook_style):\n",
    "        self.restaurant_name=restaurant_name\n",
    "        self.cook_style=cook_style\n",
    "        \n",
    "    def describe_restaurant(self):\n",
    "        print(self.restaurant_name)\n",
    "        print(self.cook_style)\n",
    "        \n",
    "class IceCreamStand(Restaurant):\n",
    "    def __init__(self,restaurant_name,cook_style):\n",
    "        super().__init__(restaurant_name,cook_style)\n",
    "        \n",
    "    self.flavors=['strawberry','lemon','milk']\n",
    "    \n",
    "    def show_flavors(self):\n",
    "        for x in self.flavors:\n",
    "            print('我喜歡的口味'+' '+x )\n",
    "            \n",
    "a=IceCreamStand('ICEE','put ice in it')\n",
    "a.describe_restaurant()\n",
    "a.show_flavors()"
   ]
  },
  {
   "cell_type": "code",
   "execution_count": null,
   "metadata": {},
   "outputs": [],
   "source": []
  },
  {
   "cell_type": "code",
   "execution_count": null,
   "metadata": {},
   "outputs": [],
   "source": []
  },
  {
   "cell_type": "code",
   "execution_count": null,
   "metadata": {},
   "outputs": [],
   "source": []
  }
 ],
 "metadata": {
  "kernelspec": {
   "display_name": "Python 3",
   "language": "python",
   "name": "python3"
  },
  "language_info": {
   "codemirror_mode": {
    "name": "ipython",
    "version": 3
   },
   "file_extension": ".py",
   "mimetype": "text/x-python",
   "name": "python",
   "nbconvert_exporter": "python",
   "pygments_lexer": "ipython3",
   "version": "3.6.4"
  }
 },
 "nbformat": 4,
 "nbformat_minor": 2
}

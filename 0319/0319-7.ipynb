{
 "cells": [
  {
   "cell_type": "code",
   "execution_count": 7,
   "metadata": {},
   "outputs": [
    {
     "name": "stdout",
     "output_type": "stream",
     "text": [
      "數字a=2\n",
      "數字b=3\n",
      "+-*/符號-\n",
      "-1\n"
     ]
    }
   ],
   "source": [
    "x = input(\"數字a=\")\n",
    "d=int(x) #型態變換 str轉int\n",
    "w = input(\"數字b=\")\n",
    "e=int(w)\n",
    "def plus():\n",
    "    print(d+e)\n",
    "def minus():\n",
    "    print(d-e)\n",
    "def multiply():\n",
    "    print(d*e)\n",
    "def divide():\n",
    "    print(d/e)\n",
    "y = input(\"+-*/符號\")\n",
    "if y==\"+\" :\n",
    "    plus()    \n",
    "elif y==\"-\" :\n",
    "    minus()\n",
    "elif y==\"*\" :\n",
    "    multiply()\n",
    "elif y==\"/\" :\n",
    "    divide()"
   ]
  },
  {
   "cell_type": "code",
   "execution_count": null,
   "metadata": {},
   "outputs": [],
   "source": []
  },
  {
   "cell_type": "code",
   "execution_count": null,
   "metadata": {},
   "outputs": [],
   "source": []
  },
  {
   "cell_type": "code",
   "execution_count": null,
   "metadata": {},
   "outputs": [],
   "source": []
  },
  {
   "cell_type": "code",
   "execution_count": null,
   "metadata": {},
   "outputs": [],
   "source": []
  },
  {
   "cell_type": "code",
   "execution_count": 7,
   "metadata": {},
   "outputs": [],
   "source": []
  },
  {
   "cell_type": "code",
   "execution_count": 8,
   "metadata": {},
   "outputs": [],
   "source": []
  },
  {
   "cell_type": "code",
   "execution_count": null,
   "metadata": {},
   "outputs": [],
   "source": []
  },
  {
   "cell_type": "code",
   "execution_count": null,
   "metadata": {},
   "outputs": [],
   "source": []
  }
 ],
 "metadata": {
  "kernelspec": {
   "display_name": "Python 3",
   "language": "python",
   "name": "python3"
  },
  "language_info": {
   "codemirror_mode": {
    "name": "ipython",
    "version": 3
   },
   "file_extension": ".py",
   "mimetype": "text/x-python",
   "name": "python",
   "nbconvert_exporter": "python",
   "pygments_lexer": "ipython3",
   "version": "3.6.4"
  }
 },
 "nbformat": 4,
 "nbformat_minor": 2
}

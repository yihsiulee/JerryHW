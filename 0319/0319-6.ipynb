{
 "cells": [
  {
   "cell_type": "code",
   "execution_count": 2,
   "metadata": {},
   "outputs": [
    {
     "data": {
      "text/plain": [
       "('好像沒這種顏⾊', 'XX')"
      ]
     },
     "execution_count": 2,
     "metadata": {},
     "output_type": "execute_result"
    }
   ],
   "source": [
    "iron_man_color = \"XX\"\n",
    "def what_are_those():\n",
    "    if iron_man_color == \"紅色\":\n",
    "        return(\"鋼鐵⼈盔甲是紅⾊的\")\n",
    "    elif iron_man_color == \"綠色\":\n",
    "        return(\"鋼鐵⼈其實也可以參考浩克的顏⾊\")\n",
    "    elif iron_man_color == \"藍色\":\n",
    "        return(\"鋼鐵⼈變成藍⾊⼩精靈也不錯\")\n",
    "    else:\n",
    "        return(\"好像沒這種顏⾊\",iron_man_color)\n",
    "what_are_those()"
   ]
  },
  {
   "cell_type": "code",
   "execution_count": null,
   "metadata": {},
   "outputs": [],
   "source": []
  }
 ],
 "metadata": {
  "kernelspec": {
   "display_name": "Python 3",
   "language": "python",
   "name": "python3"
  },
  "language_info": {
   "codemirror_mode": {
    "name": "ipython",
    "version": 3
   },
   "file_extension": ".py",
   "mimetype": "text/x-python",
   "name": "python",
   "nbconvert_exporter": "python",
   "pygments_lexer": "ipython3",
   "version": "3.6.4"
  }
 },
 "nbformat": 4,
 "nbformat_minor": 2
}

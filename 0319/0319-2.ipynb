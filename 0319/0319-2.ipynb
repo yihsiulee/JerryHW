{
 "cells": [
  {
   "cell_type": "code",
   "execution_count": 23,
   "metadata": {},
   "outputs": [
    {
     "name": "stdout",
     "output_type": "stream",
     "text": [
      "輸入數字,q離開2\n",
      "錯\n",
      "輸入數字,q離開3\n",
      "錯\n",
      "輸入數字,q離開4\n",
      "錯\n",
      "輸入數字,q離開5\n",
      "錯\n",
      "輸入數字,q離開\n",
      "錯\n",
      "輸入數字,q離開6\n",
      "錯\n",
      "輸入數字,q離開8\n",
      "答對\n"
     ]
    }
   ],
   "source": [
    "while True:\n",
    "    num=input(\"輸入數字,q離開\")\n",
    "    if num==\"q\":\n",
    "        break\n",
    "    elif num==\"8\":\n",
    "        print(\"答對\")\n",
    "        break\n",
    "    else: \n",
    "        print(\"錯\")"
   ]
  },
  {
   "cell_type": "code",
   "execution_count": null,
   "metadata": {},
   "outputs": [],
   "source": []
  },
  {
   "cell_type": "code",
   "execution_count": null,
   "metadata": {},
   "outputs": [],
   "source": []
  },
  {
   "cell_type": "code",
   "execution_count": null,
   "metadata": {},
   "outputs": [],
   "source": []
  },
  {
   "cell_type": "code",
   "execution_count": null,
   "metadata": {},
   "outputs": [],
   "source": []
  }
 ],
 "metadata": {
  "kernelspec": {
   "display_name": "Python 3",
   "language": "python",
   "name": "python3"
  },
  "language_info": {
   "codemirror_mode": {
    "name": "ipython",
    "version": 3
   },
   "file_extension": ".py",
   "mimetype": "text/x-python",
   "name": "python",
   "nbconvert_exporter": "python",
   "pygments_lexer": "ipython3",
   "version": "3.6.4"
  }
 },
 "nbformat": 4,
 "nbformat_minor": 2
}
